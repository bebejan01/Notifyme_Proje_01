{
 "cells": [
  {
   "cell_type": "code",
   "execution_count": 7,
   "id": "830c1119-0813-4011-9aab-ec9776617e04",
   "metadata": {},
   "outputs": [],
   "source": [
    "import json\n",
    "from datetime import datetime\n",
    "from typing import List\n",
    "\n",
    "# Görev sınıfı\n",
    "class Task:\n",
    "    def __init__(self, title, description, due_date, completed=False):\n",
    "        self.title = title\n",
    "        self.description = description\n",
    "        self.due_date = due_date  # string olarak al (YYYY-MM-DD)\n",
    "        self.completed = completed\n",
    "\n",
    "    def to_dict(self):\n",
    "        return {\n",
    "            \"title\": self.title,\n",
    "            \"description\": self.description,\n",
    "            \"due_date\": self.due_date,\n",
    "            \"completed\": self.completed\n",
    "        }\n",
    "\n",
    "    @staticmethod\n",
    "    def from_dict(data):\n",
    "        return Task(\n",
    "            data[\"title\"],\n",
    "            data[\"description\"],\n",
    "            data[\"due_date\"],\n",
    "            data[\"completed\"]\n",
    "        )\n"
   ]
  },
  {
   "cell_type": "code",
   "execution_count": 9,
   "id": "6d215f6b-8477-4d31-9b45-59f92dd3dd1d",
   "metadata": {},
   "outputs": [],
   "source": [
    "TASK_FILE = \"tasks.json\"\n",
    "\n",
    "def load_tasks() -> List[Task]:\n",
    "    try:\n",
    "        with open(TASK_FILE, \"r\") as f:\n",
    "            data = json.load(f)\n",
    "            return [Task.from_dict(item) for item in data]\n",
    "    except FileNotFoundError:\n",
    "        return []\n",
    "\n",
    "def save_tasks(tasks: List[Task]):\n",
    "    with open(TASK_FILE, \"w\") as f:\n",
    "        json.dump([task.to_dict() for task in tasks], f, indent=4)\n"
   ]
  },
  {
   "cell_type": "code",
   "execution_count": 11,
   "id": "a589bb98-559c-4966-8f8e-04bd3238069d",
   "metadata": {},
   "outputs": [],
   "source": [
    "def add_task(title, description, due_date):\n",
    "    tasks = load_tasks()\n",
    "    new_task = Task(title, description, due_date)\n",
    "    tasks.append(new_task)\n",
    "    save_tasks(tasks)\n",
    "    print(\"✅ Görev eklendi!\")\n"
   ]
  },
  {
   "cell_type": "code",
   "execution_count": 13,
   "id": "f6d6bf29-eab1-457f-aa98-568773ac379b",
   "metadata": {},
   "outputs": [],
   "source": [
    "def list_tasks():\n",
    "    tasks = load_tasks()\n",
    "    if not tasks:\n",
    "        print(\"⚠️ Henüz hiç görev yok.\")\n",
    "        return\n",
    "    for i, task in enumerate(tasks):\n",
    "        status = \"✅\" if task.completed else \"❌\"\n",
    "        print(f\"{i+1}. {task.title} | {task.due_date} | {status}\")\n",
    "        print(f\"   Açıklama: {task.description}\")\n"
   ]
  },
  {
   "cell_type": "code",
   "execution_count": 15,
   "id": "af53ccd7-d3dc-4e3c-8d95-5afa169b77ce",
   "metadata": {},
   "outputs": [],
   "source": [
    "def complete_task(index):\n",
    "    tasks = load_tasks()\n",
    "    if 0 <= index < len(tasks):\n",
    "        tasks[index].completed = True\n",
    "        save_tasks(tasks)\n",
    "        print(\"🎉 Görev tamamlandı olarak işaretlendi!\")\n",
    "    else:\n",
    "        print(\"❌ Geçersiz görev numarası.\")\n",
    "\n",
    "def delete_task(index):\n",
    "    tasks = load_tasks()\n",
    "    if 0 <= index < len(tasks):\n",
    "        deleted = tasks.pop(index)\n",
    "        save_tasks(tasks)\n",
    "        print(f\"🗑️ '{deleted.title}' silindi.\")\n",
    "    else:\n",
    "        print(\"❌ Geçersiz görev numarası.\")\n"
   ]
  },
  {
   "cell_type": "code",
   "execution_count": 17,
   "id": "e7aea61c-53a0-4fe2-a98d-c9baa3ae322f",
   "metadata": {},
   "outputs": [
    {
     "name": "stdout",
     "output_type": "stream",
     "text": [
      "✅ Görev eklendi!\n",
      "1. Proje planı yap | 2025-07-11 | ❌\n",
      "   Açıklama: NotifyMe projesi için görev listesi çıkar\n",
      "🎉 Görev tamamlandı olarak işaretlendi!\n",
      "🗑️ 'Proje planı yap' silindi.\n"
     ]
    }
   ],
   "source": [
    "add_task(\"Proje planı yap\", \"NotifyMe projesi için görev listesi çıkar\", \"2025-07-11\")\n",
    "list_tasks()\n",
    "complete_task(0)\n",
    "delete_task(0)\n"
   ]
  },
  {
   "cell_type": "code",
   "execution_count": null,
   "id": "c0182951-3489-479c-9c3b-b702bd589c46",
   "metadata": {},
   "outputs": [],
   "source": []
  }
 ],
 "metadata": {
  "kernelspec": {
   "display_name": "Python [conda env:base] *",
   "language": "python",
   "name": "conda-base-py"
  },
  "language_info": {
   "codemirror_mode": {
    "name": "ipython",
    "version": 3
   },
   "file_extension": ".py",
   "mimetype": "text/x-python",
   "name": "python",
   "nbconvert_exporter": "python",
   "pygments_lexer": "ipython3",
   "version": "3.12.7"
  }
 },
 "nbformat": 4,
 "nbformat_minor": 5
}
