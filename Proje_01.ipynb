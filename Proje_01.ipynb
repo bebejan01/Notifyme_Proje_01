{
 "cells": [
  {
   "cell_type": "code",
   "execution_count": 3,
   "id": "c1f37245-e87b-4ac8-b999-2f980077ba07",
   "metadata": {},
   "outputs": [],
   "source": [
    "import json\n",
    "from datetime import datetime\n",
    "from typing import List\n",
    "\n",
    "# Görev sınıfı\n",
    "class Task:\n",
    "    def __init__(self, title, description, due_date, completed=False):\n",
    "        self.title = title\n",
    "        self.description = description\n",
    "        self.due_date = due_date  # string olarak al (YYYY-MM-DD)\n",
    "        self.completed = completed\n",
    "\n",
    "    def to_dict(self):\n",
    "        return {\n",
    "            \"title\": self.title,\n",
    "            \"description\": self.description,\n",
    "            \"due_date\": self.due_date,\n",
    "            \"completed\": self.completed\n",
    "        }\n",
    "\n",
    "    @staticmethod\n",
    "    def from_dict(data):\n",
    "        return Task(\n",
    "            data[\"title\"],\n",
    "            data[\"description\"],\n",
    "            data[\"due_date\"],\n",
    "            data[\"completed\"]\n",
    "        )\n"
   ]
  },
  {
   "cell_type": "code",
   "execution_count": 5,
   "id": "2f6e7128-9fc7-4a02-9b79-3b091ba0190e",
   "metadata": {},
   "outputs": [],
   "source": [
    "TASK_FILE = \"tasks.json\"\n",
    "\n",
    "def load_tasks() -> List[Task]:\n",
    "    try:\n",
    "        with open(TASK_FILE, \"r\") as f:\n",
    "            data = json.load(f)\n",
    "            return [Task.from_dict(item) for item in data]\n",
    "    except FileNotFoundError:\n",
    "        return []\n",
    "\n",
    "def save_tasks(tasks: List[Task]):\n",
    "    with open(TASK_FILE, \"w\") as f:\n",
    "        json.dump([task.to_dict() for task in tasks], f, indent=4)\n"
   ]
  },
  {
   "cell_type": "code",
   "execution_count": 7,
   "id": "2564f1a7-6566-421b-8293-a4ef4ab2b950",
   "metadata": {},
   "outputs": [],
   "source": [
    "def add_task(title, description, due_date):\n",
    "    tasks = load_tasks()\n",
    "    new_task = Task(title, description, due_date)\n",
    "    tasks.append(new_task)\n",
    "    save_tasks(tasks)\n",
    "    print(\"✅ Görev eklendi!\")\n"
   ]
  },
  {
   "cell_type": "code",
   "execution_count": 9,
   "id": "29412821-0ce8-4106-85e5-09f2937f536e",
   "metadata": {},
   "outputs": [],
   "source": [
    "def list_tasks():\n",
    "    tasks = load_tasks()\n",
    "    if not tasks:\n",
    "        print(\"⚠️ Henüz hiç görev yok.\")\n",
    "        return\n",
    "    for i, task in enumerate(tasks):\n",
    "        status = \"✅\" if task.completed else \"❌\"\n",
    "        print(f\"{i+1}. {task.title} | {task.due_date} | {status}\")\n",
    "        print(f\"   Açıklama: {task.description}\")\n"
   ]
  },
  {
   "cell_type": "code",
   "execution_count": 11,
   "id": "97f65509-5989-484e-90fc-5f986eb83c88",
   "metadata": {},
   "outputs": [],
   "source": [
    "def complete_task(index):\n",
    "    tasks = load_tasks()\n",
    "    if 0 <= index < len(tasks):\n",
    "        tasks[index].completed = True\n",
    "        save_tasks(tasks)\n",
    "        print(\"🎉 Görev tamamlandı olarak işaretlendi!\")\n",
    "    else:\n",
    "        print(\"❌ Geçersiz görev numarası.\")\n",
    "\n",
    "def delete_task(index):\n",
    "    tasks = load_tasks()\n",
    "    if 0 <= index < len(tasks):\n",
    "        deleted = tasks.pop(index)\n",
    "        save_tasks(tasks)\n",
    "        print(f\"🗑️ '{deleted.title}' silindi.\")\n",
    "    else:\n",
    "        print(\"❌ Geçersiz görev numarası.\")\n"
   ]
  },
  {
   "cell_type": "code",
   "execution_count": 13,
   "id": "3c55a1a8-693c-431d-b58e-c93e71a32923",
   "metadata": {
    "scrolled": true
   },
   "outputs": [
    {
     "name": "stdout",
     "output_type": "stream",
     "text": [
      "✅ Görev eklendi!\n",
      "1. Proje planı yap | 2025-07-11 | ❌\n",
      "   Açıklama: NotifyMe projesi için görev listesi çıkar\n",
      "🎉 Görev tamamlandı olarak işaretlendi!\n",
      "🗑️ 'Proje planı yap' silindi.\n"
     ]
    }
   ],
   "source": [
    "add_task(\"Proje planı yap\", \"NotifyMe projesi için görev listesi çıkar\", \"2025-07-11\")\n",
    "list_tasks()\n",
    "complete_task(0)\n",
    "delete_task(0)\n"
   ]
  },
  {
   "cell_type": "code",
   "execution_count": null,
   "id": "cc34e3e8-0465-48e4-abb4-822937c5e190",
   "metadata": {},
   "outputs": [],
   "source": []
  }
 ],
 "metadata": {
  "kernelspec": {
   "display_name": "Python [conda env:base] *",
   "language": "python",
   "name": "conda-base-py"
  },
  "language_info": {
   "codemirror_mode": {
    "name": "ipython",
    "version": 3
   },
   "file_extension": ".py",
   "mimetype": "text/x-python",
   "name": "python",
   "nbconvert_exporter": "python",
   "pygments_lexer": "ipython3",
   "version": "3.12.7"
  }
 },
 "nbformat": 4,
 "nbformat_minor": 5
}
